{
 "cells": [
  {
   "cell_type": "code",
   "execution_count": 8,
   "id": "ebc8b716",
   "metadata": {},
   "outputs": [],
   "source": [
    "import cv2\n",
    "from skimage.filters import threshold_local\n",
    "import imutils\n",
    "from skimage import measure\n",
    "import numpy as np\n",
    "import matplotlib.pyplot as plt"
   ]
  },
  {
   "cell_type": "code",
   "execution_count": 9,
   "id": "db5bea17",
   "metadata": {},
   "outputs": [],
   "source": [
    "plate_path = \"plates_images/data/16.png\"\n",
    "fixed_width = 400\n",
    "image = cv2.imread(plate_path)"
   ]
  },
  {
   "cell_type": "code",
   "execution_count": 10,
   "id": "14a052dd",
   "metadata": {},
   "outputs": [],
   "source": [
    "cv2.imshow(\"plate 1\",image)\n",
    "cv2.waitKey(0)\n",
    "cv2.destroyAllWindows()\n",
    "fixed_width=400"
   ]
  },
  {
   "cell_type": "code",
   "execution_count": 11,
   "id": "d3ccedb7",
   "metadata": {},
   "outputs": [],
   "source": [
    "def sort_cont(character_contours):\n",
    "    \"\"\"\n",
    "    To sort contours from left to right\n",
    "    \"\"\"\n",
    "    i = 0\n",
    "    boundingBoxes = [cv2.boundingRect(c) for c in character_contours]\n",
    "    (character_contours, boundingBoxes) = zip(*sorted(zip(character_contours, boundingBoxes),\n",
    "                                                      key=lambda b: b[1][i], reverse=False))\n",
    "    return character_contours\n"
   ]
  },
  {
   "cell_type": "code",
   "execution_count": 12,
   "id": "86923c1b",
   "metadata": {},
   "outputs": [],
   "source": [
    "def segment_chars(plate_img, fixed_width):\n",
    "    \"\"\"\n",
    "        ******************\n",
    "    \"\"\"\n",
    "    V = cv2.split(cv2.cvtColor(plate_img, cv2.COLOR_BGR2HSV))[2]\n",
    "\n",
    "    T = threshold_local(V, 29, offset=15, method='gaussian')\n",
    "\n",
    "    thresh = (V > T).astype('uint8') * 255\n",
    "\n",
    "    thresh = cv2.bitwise_not(thresh)\n",
    "\n",
    "    # resize the license plate region to a canoncial size\n",
    "    plate_img = imutils.resize(plate_img, width=fixed_width)\n",
    "    thresh = imutils.resize(thresh, width=fixed_width)\n",
    "    bgr_thresh = cv2.cvtColor(thresh, cv2.COLOR_GRAY2BGR)\n",
    "\n",
    "    # perform a connected components analysis and initialize the mask to store the locations\n",
    "    # of the character candidates\n",
    "    labels = measure.label(thresh, 8, 0)\n",
    "\n",
    "    charCandidates = np.zeros(thresh.shape, dtype='uint8')\n",
    "\n",
    "    # loop over the unique components\n",
    "    characters = []\n",
    "    for label in np.unique(labels):\n",
    "        # if this is the background label, ignore it\n",
    "        if label == 0:\n",
    "            continue\n",
    "        # otherwise, construct the label mask to display only connected components for the\n",
    "        # current label, then find contours in the label mask\n",
    "        labelMask = np.zeros(thresh.shape, dtype='uint8')\n",
    "        labelMask[labels == label] = 255\n",
    "\n",
    "        cnts = cv2.findContours(\n",
    "            labelMask, cv2.RETR_EXTERNAL, cv2.CHAIN_APPROX_SIMPLE)\n",
    "        cnts = cnts[0]\n",
    "\n",
    "        # ensure at least one contour was found in the mask\n",
    "        if len(cnts) > 0:\n",
    "\n",
    "            # grab the largest contour which corresponds to the component in the mask, then\n",
    "            # grab the bounding box for the contour\n",
    "            c = max(cnts, key=cv2.contourArea)\n",
    "            # c = max([area for area in cv2.contourArea(cnts) if cnts !=0 ])\n",
    "            (boxX, boxY, boxW, boxH) = cv2.boundingRect(c)\n",
    "\n",
    "            # compute the aspect ratio, solodity, and height ration for the component\n",
    "            aspectRatio = boxW / float(boxH)\n",
    "            solidity = cv2.contourArea(c) / float(boxW * boxH)\n",
    "            heightRatio = boxH / float(plate_img.shape[0])\n",
    "\n",
    "            # determine if the aspect ratio, solidity, and height of the contour pass\n",
    "            # the rules tests\n",
    "            keepAspectRatio = aspectRatio < 1.0\n",
    "            keepSolidity = solidity > 0.15\n",
    "            keepHeight = heightRatio > 0.5 and heightRatio < 0.95\n",
    "\n",
    "            # check to see if the component passes all the tests\n",
    "            if keepAspectRatio and keepSolidity and keepHeight and boxW > 14:\n",
    "                # compute the convex hull of the contour and draw it on the character\n",
    "                # candidates mask\n",
    "                hull = cv2.convexHull(c)\n",
    "\n",
    "                cv2.drawContours(charCandidates, [hull], -1, 255, -1)\n",
    "\n",
    "    contours, hier = cv2.findContours(\n",
    "        charCandidates, cv2.RETR_EXTERNAL, cv2.CHAIN_APPROX_SIMPLE)\n",
    "    if contours:\n",
    "        contours = sort_cont(contours)\n",
    "        addPixel = 4  # value to be added to each dimension of the character\n",
    "        for c in contours:\n",
    "            (x, y, w, h) = cv2.boundingRect(c)\n",
    "            if y > addPixel:\n",
    "                y = y - addPixel\n",
    "            else:\n",
    "                y = 0\n",
    "            if x > addPixel:\n",
    "                x = x - addPixel\n",
    "            else:\n",
    "                x = 0\n",
    "            temp = bgr_thresh[y:y + h +\n",
    "                              (addPixel * 2), x:x + w + (addPixel * 2)]\n",
    "\n",
    "            characters.append(temp)\n",
    "        return characters\n",
    "    else:\n",
    "        return None"
   ]
  },
  {
   "cell_type": "code",
   "execution_count": 13,
   "id": "f727bd2c",
   "metadata": {},
   "outputs": [
    {
     "data": {
      "image/png": "[encoded data removed]",
      "text/plain": [
       "<Figure size 1000x800 with 7 Axes>"
      ]
     },
     "metadata": {},
     "output_type": "display_data"
    }
   ],
   "source": [
    "caracters = segment_chars(plate_img=image, fixed_width=fixed_width)\n",
    "\n",
    "fig = plt.figure(figsize=(10, 8))\n",
    "columns = 4\n",
    "rows = 2\n",
    "for i, car in enumerate(caracters):\n",
    "    fig.add_subplot(rows, columns, i+1)\n",
    "    plt.title(\"char%d.png\" % (i))\n",
    "    plt.imshow(cv2.resize(car,(16,16)))\n",
    "plt.show()"
   ]
  },
  {
   "cell_type": "code",
   "execution_count": null,
   "id": "a99eb668",
   "metadata": {},
   "outputs": [],
   "source": []
  }
 ],
 "metadata": {
  "kernelspec": {
   "display_name": "Python 3 (ipykernel)",
   "language": "python",
   "name": "python3"
  },
  "language_info": {
   "codemirror_mode": {
    "name": "ipython",
    "version": 3
   },
   "file_extension": ".py",
   "mimetype": "text/x-python",
   "name": "python",
   "nbconvert_exporter": "python",
   "pygments_lexer": "ipython3",
   "version": "3.8.10"
  },
  "vscode": {
   "interpreter": {
    "hash": "31f2aee4e71d21fbe5cf8b01ff0e069b9275f58929596ceb00d14d90e3e16cd6"
   }
  }
 },
 "nbformat": 4,
 "nbformat_minor": 5
}

{
 "cells": [
  {
   "cell_type": "code",
   "execution_count": 15,
   "id": "ebc8b716",
   "metadata": {},
   "outputs": [],
   "source": [
    "import cv2\n",
    "from skimage.filters import threshold_local\n",
    "import imutils\n",
    "from skimage import measure\n",
    "import numpy as np\n",
    "import matplotlib.pyplot as plt"
   ]
  },
  {
   "cell_type": "code",
   "execution_count": 16,
   "id": "db5bea17",
   "metadata": {},
   "outputs": [],
   "source": [
    "plate_path = \"plates_images/data/16.png\"\n",
    "fixed_width = 400\n",
    "image = cv2.imread(plate_path)"
   ]
  },
  {
   "cell_type": "code",
   "execution_count": 17,
   "id": "14a052dd",
   "metadata": {},
   "outputs": [],
   "source": [
    "cv2.imshow(\"plate 1\",image)\n",
    "cv2.waitKey(0)\n",
    "cv2.destroyAllWindows()\n",
    "fixed_width=400"
   ]
  },
  {
   "cell_type": "code",
   "execution_count": 18,
   "id": "d3ccedb7",
   "metadata": {},
   "outputs": [],
   "source": [
    "def sort_cont(character_contours):\n",
    "    \"\"\"\n",
    "    To sort contours from left to right\n",
    "    \"\"\"\n",
    "    i = 0\n",
    "    boundingBoxes = [cv2.boundingRect(c) for c in character_contours]\n",
    "    (character_contours, boundingBoxes) = zip(*sorted(zip(character_contours, boundingBoxes),\n",
    "                                                      key=lambda b: b[1][i], reverse=False))\n",
    "    return character_contours\n"
   ]
  },
  {
   "cell_type": "code",
   "execution_count": 19,
   "id": "9056faee",
   "metadata": {},
   "outputs": [],
   "source": [
    "def segment_chars(plate_img, fixed_width):\n",
    "    \"\"\"\n",
    "        ******************\n",
    "    \"\"\"\n",
    "    V = cv2.split(cv2.cvtColor(plate_img, cv2.COLOR_BGR2HSV))[2]\n",
    "\n",
    "    T = threshold_local(V, 29, offset=15, method='gaussian')\n",
    "\n",
    "    thresh = (V > T).astype('uint8') * 255\n",
    "\n",
    "    thresh = cv2.bitwise_not(thresh)\n",
    "\n",
    "    # resize the license plate region to a canoncial size\n",
    "    plate_img = imutils.resize(plate_img, width=fixed_width)\n",
    "    thresh = imutils.resize(thresh, width=fixed_width)\n",
    "    bgr_thresh = cv2.cvtColor(thresh, cv2.COLOR_GRAY2BGR)\n",
    "\n",
    "    # perform a connected components analysis and initialize the mask to store the locations\n",
    "    # of the character candidates\n",
    "    labels = measure.label(thresh, 8, 0)\n",
    "\n",
    "    charCandidates = np.zeros(thresh.shape, dtype='uint8')\n",
    "\n",
    "    # loop over the unique components\n",
    "    characters = []\n",
    "    for label in np.unique(labels):\n",
    "        # if this is the background label, ignore it\n",
    "        if label == 0:\n",
    "            continue\n",
    "        # otherwise, construct the label mask to display only connected components for the\n",
    "        # current label, then find contours in the label mask\n",
    "        labelMask = np.zeros(thresh.shape, dtype='uint8')\n",
    "        labelMask[labels == label] = 255\n",
    "\n",
    "        cnts = cv2.findContours(\n",
    "            labelMask, cv2.RETR_EXTERNAL, cv2.CHAIN_APPROX_SIMPLE)\n",
    "        cnts = cnts[0]\n",
    "\n",
    "        # ensure at least one contour was found in the mask\n",
    "        if len(cnts) > 0:\n",
    "\n",
    "            # grab the largest contour which corresponds to the component in the mask, then\n",
    "            # grab the bounding box for the contour\n",
    "            c = max(cnts, key=cv2.contourArea)\n",
    "            # c = max([area for area in cv2.contourArea(cnts) if cnts !=0 ])\n",
    "            (boxX, boxY, boxW, boxH) = cv2.boundingRect(c)\n",
    "\n",
    "            # compute the aspect ratio, solodity, and height ration for the component\n",
    "            aspectRatio = boxW / float(boxH)\n",
    "            solidity = cv2.contourArea(c) / float(boxW * boxH)\n",
    "            heightRatio = boxH / float(plate_img.shape[0])\n",
    "\n",
    "            # determine if the aspect ratio, solidity, and height of the contour pass\n",
    "            # the rules tests\n",
    "            keepAspectRatio = aspectRatio < 1.0\n",
    "            keepSolidity = solidity > 0.15\n",
    "            keepHeight = heightRatio > 0.5 and heightRatio < 0.95\n",
    "\n",
    "            # check to see if the component passes all the tests\n",
    "            if keepAspectRatio and keepSolidity and keepHeight and boxW > 14:\n",
    "                # compute the convex hull of the contour and draw it on the character\n",
    "                # candidates mask\n",
    "                hull = cv2.convexHull(c)\n",
    "\n",
    "                cv2.drawContours(charCandidates, [hull], -1, 255, -1)\n",
    "\n",
    "    contours, hier = cv2.findContours(\n",
    "        charCandidates, cv2.RETR_EXTERNAL, cv2.CHAIN_APPROX_SIMPLE)\n",
    "    if contours:\n",
    "        contours = sort_cont(contours)\n",
    "        addPixel = 4  # value to be added to each dimension of the character\n",
    "        for c in contours:\n",
    "            (x, y, w, h) = cv2.boundingRect(c)\n",
    "            if y > addPixel:\n",
    "                y = y - addPixel\n",
    "            else:\n",
    "                y = 0\n",
    "            if x > addPixel:\n",
    "                x = x - addPixel\n",
    "            else:\n",
    "                x = 0\n",
    "            temp = bgr_thresh[y:y + h +\n",
    "                              (addPixel * 2), x:x + w + (addPixel * 2)]\n",
    "\n",
    "            characters.append(temp)\n",
    "        return characters\n",
    "    else:\n",
    "        return None"
   ]
  },
  {
   "cell_type": "code",
   "execution_count": 23,
   "id": "be2a8c8b",
   "metadata": {},
   "outputs": [
    {
     "name": "stderr",
     "output_type": "stream",
     "text": [
      "/tmp/ipykernel_35007/3352226458.py:6: MatplotlibDeprecationWarning: Auto-removal of overlapping axes is deprecated since 3.6 and will be removed two minor releases later; explicitly call ax.remove() as needed.\n",
      "  plt.subplot(j, 2, i + 1)\n"
     ]
    },
    {
     "ename": "ValueError",
     "evalue": "num must be 1 <= num <= 6, not 7",
     "output_type": "error",
     "traceback": [
      "\u001b[0;31m---------------------------------------------------------------------------\u001b[0m",
      "\u001b[0;31mValueError\u001b[0m                                Traceback (most recent call last)",
      "Cell \u001b[0;32mIn [23], line 6\u001b[0m\n\u001b[1;32m      4\u001b[0m \u001b[38;5;28;01mif\u001b[39;00m i\u001b[38;5;241m%\u001b[39m\u001b[38;5;241m4\u001b[39m\u001b[38;5;241m==\u001b[39m\u001b[38;5;241m0\u001b[39m:\n\u001b[1;32m      5\u001b[0m     j\u001b[38;5;241m+\u001b[39m\u001b[38;5;241m=\u001b[39m\u001b[38;5;241m1\u001b[39m\n\u001b[0;32m----> 6\u001b[0m plt\u001b[38;5;241m.\u001b[39msubplot(j, \u001b[38;5;241m2\u001b[39m, i \u001b[38;5;241m+\u001b[39m \u001b[38;5;241m1\u001b[39m)\n\u001b[1;32m      7\u001b[0m plt\u001b[38;5;241m.\u001b[39mtitle(\u001b[38;5;124m\"\u001b[39m\u001b[38;5;124mchar\u001b[39m\u001b[38;5;132;01m%d\u001b[39;00m\u001b[38;5;124m.png\u001b[39m\u001b[38;5;124m\"\u001b[39m \u001b[38;5;241m%\u001b[39m (i))\n\u001b[1;32m      8\u001b[0m plt\u001b[38;5;241m.\u001b[39mimshow(car)\n",
      "File \u001b[0;32m~/.local/lib/python3.8/site-packages/matplotlib/pyplot.py:1254\u001b[0m, in \u001b[0;36msubplot\u001b[0;34m(*args, **kwargs)\u001b[0m\n\u001b[1;32m   1251\u001b[0m fig \u001b[38;5;241m=\u001b[39m gcf()\n\u001b[1;32m   1253\u001b[0m \u001b[38;5;66;03m# First, search for an existing subplot with a matching spec.\u001b[39;00m\n\u001b[0;32m-> 1254\u001b[0m key \u001b[38;5;241m=\u001b[39m \u001b[43mSubplotSpec\u001b[49m\u001b[38;5;241;43m.\u001b[39;49m\u001b[43m_from_subplot_args\u001b[49m\u001b[43m(\u001b[49m\u001b[43mfig\u001b[49m\u001b[43m,\u001b[49m\u001b[43m \u001b[49m\u001b[43margs\u001b[49m\u001b[43m)\u001b[49m\n\u001b[1;32m   1256\u001b[0m \u001b[38;5;28;01mfor\u001b[39;00m ax \u001b[38;5;129;01min\u001b[39;00m fig\u001b[38;5;241m.\u001b[39maxes:\n\u001b[1;32m   1257\u001b[0m     \u001b[38;5;66;03m# if we found an Axes at the position sort out if we can re-use it\u001b[39;00m\n\u001b[1;32m   1258\u001b[0m     \u001b[38;5;28;01mif\u001b[39;00m \u001b[38;5;28mhasattr\u001b[39m(ax, \u001b[38;5;124m'\u001b[39m\u001b[38;5;124mget_subplotspec\u001b[39m\u001b[38;5;124m'\u001b[39m) \u001b[38;5;129;01mand\u001b[39;00m ax\u001b[38;5;241m.\u001b[39mget_subplotspec() \u001b[38;5;241m==\u001b[39m key:\n\u001b[1;32m   1259\u001b[0m         \u001b[38;5;66;03m# if the user passed no kwargs, re-use\u001b[39;00m\n",
      "File \u001b[0;32m~/.local/lib/python3.8/site-packages/matplotlib/gridspec.py:612\u001b[0m, in \u001b[0;36mSubplotSpec._from_subplot_args\u001b[0;34m(figure, args)\u001b[0m\n\u001b[1;32m    610\u001b[0m \u001b[38;5;28;01melse\u001b[39;00m:\n\u001b[1;32m    611\u001b[0m     \u001b[38;5;28;01mif\u001b[39;00m \u001b[38;5;129;01mnot\u001b[39;00m \u001b[38;5;28misinstance\u001b[39m(num, Integral) \u001b[38;5;129;01mor\u001b[39;00m num \u001b[38;5;241m<\u001b[39m \u001b[38;5;241m1\u001b[39m \u001b[38;5;129;01mor\u001b[39;00m num \u001b[38;5;241m>\u001b[39m rows\u001b[38;5;241m*\u001b[39mcols:\n\u001b[0;32m--> 612\u001b[0m         \u001b[38;5;28;01mraise\u001b[39;00m \u001b[38;5;167;01mValueError\u001b[39;00m(\n\u001b[1;32m    613\u001b[0m             \u001b[38;5;124mf\u001b[39m\u001b[38;5;124m\"\u001b[39m\u001b[38;5;124mnum must be 1 <= num <= \u001b[39m\u001b[38;5;132;01m{\u001b[39;00mrows\u001b[38;5;241m*\u001b[39mcols\u001b[38;5;132;01m}\u001b[39;00m\u001b[38;5;124m, not \u001b[39m\u001b[38;5;132;01m{\u001b[39;00mnum\u001b[38;5;132;01m!r}\u001b[39;00m\u001b[38;5;124m\"\u001b[39m)\n\u001b[1;32m    614\u001b[0m     i \u001b[38;5;241m=\u001b[39m j \u001b[38;5;241m=\u001b[39m num\n\u001b[1;32m    615\u001b[0m \u001b[38;5;28;01mreturn\u001b[39;00m gs[i\u001b[38;5;241m-\u001b[39m\u001b[38;5;241m1\u001b[39m:j]\n",
      "\u001b[0;31mValueError\u001b[0m: num must be 1 <= num <= 6, not 7"
     ]
    },
    {
     "data": {
      "image/png": "[encoded data removed]",
      "text/plain": [
       "<Figure size 640x480 with 4 Axes>"
      ]
     },
     "metadata": {},
     "output_type": "display_data"
    }
   ],
   "source": [
    "caracters = segment_chars(plate_img=image, fixed_width=fixed_width)\n",
    "\n",
    "fig = plt.figure(figsize=(8, 8))\n",
    "columns = 4\n",
    "rows = 2\n",
    "for i, car in enumerate(caracters):\n",
    "    fig.add_subplot(rows, columns, i)\n",
    "    plt.title(\"char%d.png\" % (i))\n",
    "    plt.imshow(car)\n",
    "plt.show()"
   ]
  },
  {
   "cell_type": "code",
   "execution_count": null,
   "id": "c930baba",
   "metadata": {},
   "outputs": [],
   "source": []
  },
  {
   "cell_type": "code",
   "execution_count": null,
   "id": "cb370b7f",
   "metadata": {},
   "outputs": [],
   "source": []
  }
 ],
 "metadata": {
  "kernelspec": {
   "display_name": "Python 3 (ipykernel)",
   "language": "python",
   "name": "python3"
  },
  "language_info": {
   "codemirror_mode": {
    "name": "ipython",
    "version": 3
   },
   "file_extension": ".py",
   "mimetype": "text/x-python",
   "name": "python",
   "nbconvert_exporter": "python",
   "pygments_lexer": "ipython3",
   "version": "3.8.10"
  }
 },
 "nbformat": 4,
 "nbformat_minor": 5
}
